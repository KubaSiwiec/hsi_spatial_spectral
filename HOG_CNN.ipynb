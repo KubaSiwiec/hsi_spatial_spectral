{
  "nbformat": 4,
  "nbformat_minor": 0,
  "metadata": {
    "colab": {
      "name": "HOG_CNN.ipynb",
      "provenance": [],
      "mount_file_id": "1clyCVHD2k275B9s54hJZ8AwH590F7w8o",
      "authorship_tag": "ABX9TyNgWYB0BA/PSdHGU9Fk+chf",
      "include_colab_link": true
    },
    "kernelspec": {
      "name": "python3",
      "display_name": "Python 3"
    },
    "accelerator": "GPU"
  },
  "cells": [
    {
      "cell_type": "markdown",
      "metadata": {
        "id": "view-in-github",
        "colab_type": "text"
      },
      "source": [
        "<a href=\"https://colab.research.google.com/github/KubaSiwiec/hsi_spatial_spectral/blob/collab/HOG_CNN.ipynb\" target=\"_parent\"><img src=\"https://colab.research.google.com/assets/colab-badge.svg\" alt=\"Open In Colab\"/></a>"
      ]
    },
    {
      "cell_type": "code",
      "metadata": {
        "colab_type": "code",
        "id": "sXnDmXR7RDr2",
        "colab": {
          "base_uri": "https://localhost:8080/",
          "height": 34
        },
        "outputId": "13ce7d27-45b2-4f28-ce20-2ff585db799b"
      },
      "source": [
        "%tensorflow_version 2.x\n",
        "import tensorflow as tf\n",
        "device_name = tf.test.gpu_device_name()\n",
        "if device_name != '/device:GPU:0':\n",
        "  raise SystemError('GPU device not found')\n",
        "print('Found GPU at: {}'.format(device_name))"
      ],
      "execution_count": 1,
      "outputs": [
        {
          "output_type": "stream",
          "text": [
            "Found GPU at: /device:GPU:0\n"
          ],
          "name": "stdout"
        }
      ]
    },
    {
      "cell_type": "code",
      "metadata": {
        "id": "5dWXpdkY4FNz",
        "colab_type": "code",
        "colab": {}
      },
      "source": [
        "'''\n",
        "feature extraction functions\n",
        "'''\n",
        "\n",
        "import scipy.io\n",
        "from skimage.util import view_as_windows\n",
        "from skimage.util import pad\n",
        "import numpy as np\n",
        "from skimage.feature import local_binary_pattern, hog\n",
        "\n",
        "\n",
        "def get_data(file_name):\n",
        "    return scipy.io.loadmat(file_name)\n",
        "\n",
        "def get_patches(image, size = 3, use_padding = 'SAME'):\n",
        "\n",
        "    # add padding for image to make it able to extract the number of patches equal to number of pixels\n",
        "    # the pad width should eqal (patch size - 1) / 2,  - center pixel will always lay in original image\n",
        "    nb_padding_pixels = int(size/2 - 0.5)\n",
        "    # choose symmetric mode\n",
        "    image_padded = pad(image, nb_padding_pixels, 'symmetric')\n",
        "\n",
        "    patch_size = (size, size, image.shape[2])\n",
        "    patches = view_as_windows(image_padded, patch_size)[:, :, 0]\n",
        "    return patches\n",
        "\n",
        "\n",
        "def hsi_to_hog(image):\n",
        "\n",
        "    image_shape = image.shape\n",
        "    image_depth = image_shape[2]\n",
        "\n",
        "    hog_desc_lst = []\n",
        "    hog_img_lst = []\n",
        "\n",
        "    \n",
        "    for k in range(image_depth):\n",
        "        # compare each pixel greyscale value with the central pixel\n",
        "        desc, hog_img = hog(image[:, :, k], visualize = True)\n",
        "        hog_desc_lst.append(desc)\n",
        "        hog_img_lst.append(hog_img)\n",
        "\n",
        "    hog_desc_arr = np.asarray(hog_desc_lst)\n",
        "    hog_img_arr = np.asarray(hog_img_lst)\n",
        "\n",
        "    hog_img_arr = np.swapaxes(hog_img_arr, 0,1)\n",
        "    hog_img_arr = np.swapaxes(hog_img_arr, 1,2)\n",
        "    hog_desc_arr = np.swapaxes(hog_desc_arr, 0,1)\n",
        "\n",
        "    return hog_desc_arr, hog_img_arr\n",
        "\n",
        "\n",
        "\n",
        "\n",
        "\n",
        "def hs_to_grey(image):\n",
        "    return np.mean(image, axis = 2)\n",
        "\n",
        "def arr2D_to_list(arr: np.array):\n",
        "    dims = len(arr.shape)\n",
        "    lst = []\n",
        "    if dims == 2:\n",
        "        print('Gt width: {}, length: {}'.format(arr.shape[0], arr.shape[1]))\n",
        "        for i in range(arr.shape[0]):\n",
        "            for j in range(arr.shape[1]):\n",
        "                lst.append(arr[i, j])\n",
        "\n",
        "        return lst\n",
        "    else:\n",
        "        raise Exception('Array should be two dimentional')\n",
        "\n",
        "def arr5D_to_list_of_3D_arr(arr: np.array):\n",
        "    dims = len(arr.shape)\n",
        "    lst = []\n",
        "    if dims == 5:\n",
        "        for i in range(arr.shape[0]):\n",
        "            for j in range(arr.shape[1]):\n",
        "                    lst.append(arr[i, j])\n",
        "        return lst\n",
        "    else:\n",
        "        raise Exception('Array should be two dimentional')\n",
        "\n",
        "\n",
        "\n"
      ],
      "execution_count": 2,
      "outputs": []
    },
    {
      "cell_type": "code",
      "metadata": {
        "id": "PYjV6R59l55d",
        "colab_type": "code",
        "colab": {}
      },
      "source": [
        "import gc\n",
        "class GarbageCollectorCallback(tf.keras.callbacks.Callback):\n",
        "\n",
        "  def on_epoch_end(self, epoch, logs=None):\n",
        "    gc.collect()\n"
      ],
      "execution_count": 3,
      "outputs": []
    },
    {
      "cell_type": "code",
      "metadata": {
        "id": "D9yw3o594TxW",
        "colab_type": "code",
        "colab": {}
      },
      "source": [
        "from sklearn.model_selection import train_test_split\n",
        "from skimage.transform import resize\n",
        "import matplotlib.pyplot as plt"
      ],
      "execution_count": 4,
      "outputs": []
    },
    {
      "cell_type": "code",
      "metadata": {
        "id": "2ZrPJE13RRXU",
        "colab_type": "code",
        "colab": {
          "base_uri": "https://localhost:8080/",
          "height": 191
        },
        "outputId": "30963b8b-872d-43d7-df2d-30fb93e63b39"
      },
      "source": [
        "mat = get_data(\"/content/drive/My Drive/PaviaU.mat\")\n",
        "\n",
        "mat_gt = get_data(\"/content/drive/My Drive/PaviaU_gt.mat\")\n",
        "\n",
        "mat_training = get_data(\"/content/drive/My Drive/PaviaU_tr.mat\")\n",
        "\n",
        "\n",
        "data = mat['paviaU']\n",
        "ground_t = mat_gt['paviaU_gt']\n",
        "ground_truth = ground_t.flatten()\n",
        "training_data_full = mat_training['PaviaUni_train'].flatten()\n",
        "\n",
        "training_indeces = np.asarray(np.where(training_data_full > 0))\n",
        "testing_indices = np.asarray(np.where(ground_truth > 0))\n",
        "\n",
        "training_labels = np.take(training_data_full, training_indeces, axis = 0).flatten()\n",
        "testing_labels = np.take(ground_truth, testing_indices, axis = 0).flatten()\n",
        "\n",
        "\n",
        "print(\"Shape of the cube: {}\".format(data.shape))\n",
        "print(\"Shape of the labels_array: {}\".format(ground_truth.shape))\n",
        "print(\"Shape of training labels array: {}\".format(training_data_full.shape))\n",
        "print(\"Shape of training indeces array: {}\".format(training_indeces.shape))\n",
        "print(\"Training labels classes: {}\".format(np.unique(training_labels)))\n",
        "print(\"Number of classes: {}\".format(np.unique(ground_truth)))\n",
        "print(\"Shape of testing indices array: {}\".format(testing_indices.shape))\n",
        "print(\"Shape of testing labels array: {}\".format(testing_labels.shape))\n",
        "\n",
        "\n",
        "\n",
        "\n",
        "\n",
        "print(\"Maximum value: {}\".format(np.argmax(data)))\n",
        "\n",
        "print(\"Index of maximum value: {}\".format(np.unravel_index(np.argmax(data), data.shape)))\n",
        "\n",
        "\n",
        "\n",
        "\n",
        "\n",
        "\n",
        "\n",
        "\n",
        "\n",
        "\n",
        "\n"
      ],
      "execution_count": 5,
      "outputs": [
        {
          "output_type": "stream",
          "text": [
            "Shape of the cube: (610, 340, 103)\n",
            "Shape of the labels_array: (207400,)\n",
            "Shape of training labels array: (207400,)\n",
            "Shape of training indeces array: (1, 3921)\n",
            "Training labels classes: [1 2 3 4 5 6 7 8 9]\n",
            "Number of classes: [0 1 2 3 4 5 6 7 8 9]\n",
            "Shape of testing indices array: (1, 42776)\n",
            "Shape of testing labels array: (42776,)\n",
            "Maximum value: 396299\n",
            "Index of maximum value: (11, 107, 58)\n"
          ],
          "name": "stdout"
        }
      ]
    },
    {
      "cell_type": "code",
      "metadata": {
        "id": "4qSJNZojyTcm",
        "colab_type": "code",
        "colab": {
          "base_uri": "https://localhost:8080/",
          "height": 868
        },
        "outputId": "d42aa78e-b580-4077-b946-f80d18236a02"
      },
      "source": [
        "data = np.int_(data / np.max(data) * 255)\n",
        "print(data)"
      ],
      "execution_count": 6,
      "outputs": [
        {
          "output_type": "stream",
          "text": [
            "[[[ 20  15  14 ... 102 103 103]\n",
            "  [ 19  17  16 ...  77  78  80]\n",
            "  [ 19  23  17 ...  73  74  75]\n",
            "  ...\n",
            "  [ 16  16  19 ...  93  93  94]\n",
            "  [ 16  10   2 ...  87  88  90]\n",
            "  [ 22  15  13 ...  81  80  79]]\n",
            "\n",
            " [[ 22  21  21 ...  83  83  83]\n",
            "  [ 28  22  14 ...  50  49  48]\n",
            "  [ 17  16  19 ...  48  48  49]\n",
            "  ...\n",
            "  [ 36  20  13 ... 103 103 104]\n",
            "  [ 29  32  23 ...  90  89  89]\n",
            "  [ 33  27  17 ...  79  80  80]]\n",
            "\n",
            " [[ 34  27  22 ...  67  69  69]\n",
            "  [ 10  16  19 ...  35  35  34]\n",
            "  [ 33  21  10 ...  25  25  25]\n",
            "  ...\n",
            "  [ 25  22  15 ...  88  88  90]\n",
            "  [  7  11  19 ...  91  91  91]\n",
            "  [ 26  18  15 ...  89  89  89]]\n",
            "\n",
            " ...\n",
            "\n",
            " [[ 23  19  22 ...  69  69  69]\n",
            "  [ 25  25  31 ...  62  63  62]\n",
            "  [ 26  26  29 ...  60  61  62]\n",
            "  ...\n",
            "  [ 22  22  21 ...  76  76  74]\n",
            "  [ 11   9   0 ...  78  78  77]\n",
            "  [ 36  29  22 ...  79  80  80]]\n",
            "\n",
            " [[ 25  23  27 ...  69  69  69]\n",
            "  [ 27  28  22 ...  67  68  68]\n",
            "  [ 34  35  35 ...  62  63  65]\n",
            "  ...\n",
            "  [ 22  23  17 ...  81  81  81]\n",
            "  [ 17  16  14 ...  79  78  77]\n",
            "  [ 24  19   9 ...  76  77  78]]\n",
            "\n",
            " [[ 32  30  24 ...  65  67  68]\n",
            "  [ 30  23  27 ...  70  72  71]\n",
            "  [ 38  40  32 ...  69  70  71]\n",
            "  ...\n",
            "  [ 18  12  13 ...  75  76  77]\n",
            "  [ 18  23  20 ...  73  73  72]\n",
            "  [ 28  22  14 ...  77  77  79]]]\n"
          ],
          "name": "stdout"
        }
      ]
    },
    {
      "cell_type": "code",
      "metadata": {
        "id": "LNe_VQtPRR2U",
        "colab_type": "code",
        "colab": {
          "base_uri": "https://localhost:8080/",
          "height": 903
        },
        "outputId": "43ac99b9-2168-496a-bc91-2608746fe45d"
      },
      "source": [
        "# apply hog on image\n",
        "hog_desc, processed_image = hsi_to_hog(data)\n",
        "print('HOG image shape: {}'.format(processed_image.shape))\n",
        "\n",
        "processed_image = np.int_(processed_image/np.max(processed_image)*255)\n",
        "print(processed_image)\n",
        "print(np.max(processed_image))\n",
        "\n",
        "\n",
        "\n",
        "\n",
        "\n"
      ],
      "execution_count": 7,
      "outputs": [
        {
          "output_type": "stream",
          "text": [
            "HOG image shape: (610, 340, 103)\n",
            "[[[0 0 0 ... 0 0 0]\n",
            "  [0 0 0 ... 0 0 0]\n",
            "  [0 0 0 ... 0 0 0]\n",
            "  ...\n",
            "  [0 0 0 ... 0 0 0]\n",
            "  [0 0 0 ... 0 0 0]\n",
            "  [0 0 0 ... 0 0 0]]\n",
            "\n",
            " [[0 0 0 ... 0 0 0]\n",
            "  [0 0 0 ... 0 0 0]\n",
            "  [1 0 3 ... 0 1 0]\n",
            "  ...\n",
            "  [0 0 0 ... 0 0 0]\n",
            "  [0 0 0 ... 0 0 0]\n",
            "  [0 0 0 ... 0 0 0]]\n",
            "\n",
            " [[0 0 0 ... 0 0 0]\n",
            "  [4 5 3 ... 5 7 9]\n",
            "  [0 0 0 ... 0 0 0]\n",
            "  ...\n",
            "  [0 0 0 ... 0 0 0]\n",
            "  [0 0 0 ... 0 0 0]\n",
            "  [0 0 0 ... 0 0 0]]\n",
            "\n",
            " ...\n",
            "\n",
            " [[0 0 0 ... 0 0 0]\n",
            "  [0 0 0 ... 0 0 0]\n",
            "  [0 0 0 ... 0 0 0]\n",
            "  ...\n",
            "  [0 0 0 ... 0 0 0]\n",
            "  [0 0 0 ... 0 0 0]\n",
            "  [0 0 0 ... 0 0 0]]\n",
            "\n",
            " [[0 0 0 ... 0 0 0]\n",
            "  [0 0 0 ... 0 0 0]\n",
            "  [0 0 0 ... 0 0 0]\n",
            "  ...\n",
            "  [0 0 0 ... 0 0 0]\n",
            "  [0 0 0 ... 0 0 0]\n",
            "  [0 0 0 ... 0 0 0]]\n",
            "\n",
            " [[0 0 0 ... 0 0 0]\n",
            "  [0 0 0 ... 0 0 0]\n",
            "  [0 0 0 ... 0 0 0]\n",
            "  ...\n",
            "  [0 0 0 ... 0 0 0]\n",
            "  [0 0 0 ... 0 0 0]\n",
            "  [0 0 0 ... 0 0 0]]]\n",
            "255\n"
          ],
          "name": "stdout"
        }
      ]
    },
    {
      "cell_type": "code",
      "metadata": {
        "id": "E3vx9yMQEoeS",
        "colab_type": "code",
        "colab": {
          "base_uri": "https://localhost:8080/",
          "height": 34
        },
        "outputId": "a180804f-faab-43ae-d6d1-b90ffa009da3"
      },
      "source": [
        "print('HOG image shape: {}'.format(processed_image.shape))"
      ],
      "execution_count": 8,
      "outputs": [
        {
          "output_type": "stream",
          "text": [
            "HOG image shape: (610, 340, 103)\n"
          ],
          "name": "stdout"
        }
      ]
    },
    {
      "cell_type": "code",
      "metadata": {
        "id": "sKXVQipdHXYi",
        "colab_type": "code",
        "colab": {
          "base_uri": "https://localhost:8080/",
          "height": 34
        },
        "outputId": "c2c33d29-cd61-41d5-da1b-9ebf95514e44"
      },
      "source": [
        "np.max(processed_image)"
      ],
      "execution_count": 9,
      "outputs": [
        {
          "output_type": "execute_result",
          "data": {
            "text/plain": [
              "255"
            ]
          },
          "metadata": {
            "tags": []
          },
          "execution_count": 9
        }
      ]
    },
    {
      "cell_type": "code",
      "metadata": {
        "id": "CHmYZIraGsDF",
        "colab_type": "code",
        "colab": {
          "base_uri": "https://localhost:8080/",
          "height": 521
        },
        "outputId": "aaf70fb5-5dc9-4807-c3da-90a63376b28c"
      },
      "source": [
        "plt.figure(1)\n",
        "plt.imshow(hs_to_grey(processed_image), cmap='gray')\n",
        "plt.show()\n",
        "\n",
        "plt.figure(2)\n",
        "plt.imshow(processed_image[:, :, 0], cmap='gray')\n",
        "plt.show()"
      ],
      "execution_count": 10,
      "outputs": [
        {
          "output_type": "display_data",
          "data": {
            "image/png": "[encoded data removed]",
            "text/plain": [
              "<Figure size 432x288 with 1 Axes>"
            ]
          },
          "metadata": {
            "tags": [],
            "needs_background": "light"
          }
        },
        {
          "output_type": "display_data",
          "data": {
            "image/png": "[encoded data removed]",
            "text/plain": [
              "<Figure size 432x288 with 1 Axes>"
            ]
          },
          "metadata": {
            "tags": [],
            "needs_background": "light"
          }
        }
      ]
    },
    {
      "cell_type": "code",
      "metadata": {
        "id": "wYfATVovH9_L",
        "colab_type": "code",
        "colab": {
          "base_uri": "https://localhost:8080/",
          "height": 34
        },
        "outputId": "6c7b8ac7-2c9f-40c3-f936-e023dabd3d51"
      },
      "source": [
        "print(hog_desc.shape)"
      ],
      "execution_count": 11,
      "outputs": [
        {
          "output_type": "stream",
          "text": [
            "(239760, 103)\n"
          ],
          "name": "stdout"
        }
      ]
    },
    {
      "cell_type": "code",
      "metadata": {
        "id": "t6lMXbqaRSSw",
        "colab_type": "code",
        "colab": {
          "base_uri": "https://localhost:8080/",
          "height": 34
        },
        "outputId": "0062496b-bc13-456b-86a8-33293b08d938"
      },
      "source": [
        "#crop patches\n",
        "patch_size = 25\n",
        "data_patches = get_patches(processed_image, patch_size)\n",
        "print('HOG patches shape: {}'.format(data_patches.shape))"
      ],
      "execution_count": 12,
      "outputs": [
        {
          "output_type": "stream",
          "text": [
            "HOG patches shape: (610, 340, 25, 25, 103)\n"
          ],
          "name": "stdout"
        }
      ]
    },
    {
      "cell_type": "code",
      "metadata": {
        "id": "TNYqHthC_NcG",
        "colab_type": "code",
        "colab": {}
      },
      "source": [
        "'''\n",
        "Save patches and ground truth into arrays\n",
        "'''\n",
        "training_patch_arr = np.resize(np.take(np.asarray(arr5D_to_list_of_3D_arr(data_patches), dtype=np.uint8), training_indeces, axis = 0), (training_labels.shape[0], patch_size, patch_size, 103))\n",
        "testing_patch_arr = np.resize(np.take(np.asarray(arr5D_to_list_of_3D_arr(data_patches), dtype=np.uint8), testing_indices, axis = 0), (testing_labels.shape[0], patch_size, patch_size, 103))\n",
        "\n",
        "print(testing_patch_arr.shape)\n",
        "print('patch_lbp_list len: {}'.format(training_patch_arr.shape))\n",
        "gc.collect()\n",
        "\n",
        "# ground truth\n",
        "labels_gt = ground_truth.flatten()\n",
        "print(\"Labels len: {}\".format(len(labels_gt)))\n",
        "print(np.unique(labels_gt))\n",
        "# ground_truth = None"
      ],
      "execution_count": null,
      "outputs": []
    },
    {
      "cell_type": "code",
      "metadata": {
        "id": "sk1qLEGW9tQ9",
        "colab_type": "code",
        "colab": {}
      },
      "source": [
        ""
      ],
      "execution_count": null,
      "outputs": []
    },
    {
      "cell_type": "code",
      "metadata": {
        "id": "AACdpxWCiEZG",
        "colab_type": "code",
        "colab": {}
      },
      "source": [
        "pip install spectral"
      ],
      "execution_count": null,
      "outputs": []
    },
    {
      "cell_type": "code",
      "metadata": {
        "id": "hsy0xvSeYhwC",
        "colab_type": "code",
        "colab": {}
      },
      "source": [
        "import spectral\n",
        "spectral.imshow(data)"
      ],
      "execution_count": null,
      "outputs": []
    },
    {
      "cell_type": "code",
      "metadata": {
        "id": "QcVarj8CRrVi",
        "colab_type": "code",
        "colab": {}
      },
      "source": [
        "'''\n",
        "Plotting images\n",
        "'''\n",
        "\n",
        "#compare greyscale image with lbp map\n",
        "plt.figure(1)\n",
        "plt.imshow(hs_to_grey(data), cmap='gray')\n",
        "plt.title(\"Grayscale image\")\n",
        "\n",
        "plt.figure(2)\n",
        "plt.imshow(hs_to_grey(processed_image), cmap='gray')\n",
        "plt.title(\"HOG image\")\n",
        "\n",
        "# present some patches of lbp data\n",
        "plt.figure(4)\n",
        "co_x = 100\n",
        "co_y = 100\n",
        "plt.imshow(hs_to_grey(data_patches[co_x, co_y]), cmap='gray')\n",
        "plt.title(\"HOG sample patch of coordinates {}, {}\".format(co_x, co_y))\n",
        "\n",
        "plt.figure(6)\n",
        "plt.imshow(ground_t)\n",
        "plt.title('Classes')\n",
        "\n",
        "plt.show()\n",
        "\n",
        "#free memory\n",
        "data = None\n",
        "processed_image = None"
      ],
      "execution_count": null,
      "outputs": []
    },
    {
      "cell_type": "code",
      "metadata": {
        "id": "YbDoyqmhYxwa",
        "colab_type": "code",
        "colab": {}
      },
      "source": [
        "spectral.imshow(data_patches[co_x, co_y])\n",
        "co_x = None\n",
        "co_y = None\n",
        "gc.collect()"
      ],
      "execution_count": null,
      "outputs": []
    },
    {
      "cell_type": "code",
      "metadata": {
        "id": "vei-cPSCR611",
        "colab_type": "code",
        "colab": {}
      },
      "source": [
        "'''\n",
        "split data to training and validation datasets\n",
        "'''\n",
        "gc.collect()\n",
        "\n",
        "val_split = 0.12\n",
        "X_train, X_val, y_train, y_val = train_test_split(testing_patch_arr, testing_labels, test_size=val_split, stratify=testing_labels)\n",
        "label_gt = None"
      ],
      "execution_count": null,
      "outputs": []
    },
    {
      "cell_type": "code",
      "metadata": {
        "id": "Og3f-QFIenXF",
        "colab_type": "code",
        "colab": {}
      },
      "source": [
        "training_patch_arr.shape"
      ],
      "execution_count": null,
      "outputs": []
    },
    {
      "cell_type": "code",
      "metadata": {
        "id": "g9aqlGP74MAJ",
        "colab_type": "code",
        "colab": {}
      },
      "source": [
        "'''\n",
        "create CNN model function\n",
        "'''\n",
        "from tensorflow import keras\n",
        "\n",
        "# model definition function\n",
        "def create_model_CNN(l2_loss_lambda = None):\n",
        "    keras.backend.clear_session()\n",
        "\n",
        "    target_size = (32, 32)\n",
        "    l2 = None if l2_loss_lambda is None else keras.regularizers.l2(l2_loss_lambda)\n",
        "    if l2 is not None:\n",
        "        print('Using L2 regularization - l2_loss_lambda = %.4f' % l2_loss_lambda)\n",
        "\n",
        "    model = keras.Sequential(\n",
        "        [\n",
        "            keras.layers.Lambda(lambda image: tf.image.resize(image, target_size)),\n",
        "            keras.layers.Conv2D(256, 3, activation=tf.nn.relu, input_shape=(32, 32, 103)),\n",
        "            keras.layers.MaxPool2D(2),\n",
        "            keras.layers.Conv2D(512, 3, activation=tf.nn.relu),\n",
        "            keras.layers.MaxPool2D(2),\n",
        "            keras.layers.Flatten(),\n",
        "            keras.layers.Dense(512, activation=tf.nn.relu, kernel_regularizer=l2),\n",
        "            keras.layers.Dropout(0.5),\n",
        "            keras.layers.Dense(10, activation=tf.nn.softmax),\n",
        "        ]\n",
        "    )\n",
        "\n",
        "    # model compiling\n",
        "\n",
        "    model.compile(\n",
        "        optimizer=\"adam\", loss=\"sparse_categorical_crossentropy\", metrics=[\"accuracy\"]\n",
        "    )\n",
        "\n",
        "    return model"
      ],
      "execution_count": null,
      "outputs": []
    },
    {
      "cell_type": "code",
      "metadata": {
        "id": "vxOHG_4OZJOk",
        "colab_type": "code",
        "colab": {}
      },
      "source": [
        ""
      ],
      "execution_count": null,
      "outputs": []
    },
    {
      "cell_type": "code",
      "metadata": {
        "id": "hNLGGMCmSRB5",
        "colab_type": "code",
        "colab": {}
      },
      "source": [
        "'''\n",
        "Create and fit model, get loss, accuracy and f1-score metrics\n",
        "'''\n",
        "model = create_model_CNN(0.01)\n",
        "\n",
        "gc.collect()\n",
        "history = model.fit(X_train, y_train, batch_size = 128, epochs=20, validation_data=(X_val, y_val))\n",
        "\n",
        "# history = model.fit_generator(train_generator, epochs=700, validation_data=validation_generator)\n",
        "\n",
        "print(model.summary())"
      ],
      "execution_count": null,
      "outputs": []
    },
    {
      "cell_type": "code",
      "metadata": {
        "id": "HKVY1RU10fZo",
        "colab_type": "code",
        "colab": {}
      },
      "source": [
        "'''\n",
        "Plot accuracy\n",
        "'''\n",
        "\n",
        "plt.figure(1)\n",
        "plt.plot(history.history['accuracy'])\n",
        "plt.plot(history.history['val_accuracy'])\n",
        "plt.legend(['train accuracy', 'val accuracy'])\n",
        "plt.title(\"HOG, LSTM, {}x{} patch\".format(patch_size, patch_size))\n",
        "plt.show()"
      ],
      "execution_count": null,
      "outputs": []
    },
    {
      "cell_type": "code",
      "metadata": {
        "id": "p7FBRIr29Bv-",
        "colab_type": "code",
        "colab": {}
      },
      "source": [
        "'''\n",
        "get predictions and predicted labels for validation set\n",
        "'''\n",
        "\n",
        "predictions = model.predict(X_val)\n",
        "gt_predicted = [np.argmax(prediction) for prediction in predictions]\n"
      ],
      "execution_count": null,
      "outputs": []
    },
    {
      "cell_type": "code",
      "metadata": {
        "id": "RLkXzHZBn0E3",
        "colab_type": "code",
        "colab": {}
      },
      "source": [
        "'''\n",
        "Calculate kappa coefictient\n",
        "'''\n",
        "\n",
        "from sklearn.metrics import cohen_kappa_score, f1_score\n",
        "\n",
        "kappa = cohen_kappa_score(y_val, np.array(gt_predicted))\n",
        "f1 = f1_score(y_val, np.array(gt_predicted), average = 'weighted')\n",
        "print(\"Training accuracy: {}\\nValidation accuracy: {}\\nKappa: {}\\nF1: {}\".format(np.max(history.history['accuracy']), np.max(history.history['val_accuracy']),kappa, f1))"
      ],
      "execution_count": null,
      "outputs": []
    },
    {
      "cell_type": "code",
      "metadata": {
        "id": "Fs1HynarFfks",
        "colab_type": "code",
        "colab": {}
      },
      "source": [
        "predictions_test = model.predict(training_patch_arr)\n",
        "gt_predicted_test = [np.argmax(prediction) for prediction in predictions_test]"
      ],
      "execution_count": null,
      "outputs": []
    },
    {
      "cell_type": "code",
      "metadata": {
        "id": "y41DdCWP3wQF",
        "colab_type": "code",
        "colab": {}
      },
      "source": [
        "result = model.evaluate(training_patch_arr, training_labels)\n",
        "\n",
        "kappa_test = cohen_kappa_score(training_labels, np.array(gt_predicted_test))\n",
        "f1_test = f1_score(training_labels, np.array(gt_predicted_test), average = 'weighted')\n",
        "print(\"Testing loss and accuracy: {}\\nKappa: {}\\nF1: {}\".format(result,kappa_test, f1_test))\n"
      ],
      "execution_count": null,
      "outputs": []
    },
    {
      "cell_type": "code",
      "metadata": {
        "id": "OuMgktW7bnZ8",
        "colab_type": "code",
        "colab": {}
      },
      "source": [
        ""
      ],
      "execution_count": null,
      "outputs": []
    }
  ]
}