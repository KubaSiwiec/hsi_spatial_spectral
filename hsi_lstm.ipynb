{
  "nbformat": 4,
  "nbformat_minor": 0,
  "metadata": {
    "colab": {
      "name": "hsi_lstm.ipynb",
      "provenance": [],
      "mount_file_id": "13WsY2YGPifeX-7Rv7P0wgbOcgFDm6Prt",
      "authorship_tag": "ABX9TyPHRzuMDbyHHeD2nHBQCmwJ",
      "include_colab_link": true
    },
    "kernelspec": {
      "name": "python3",
      "display_name": "Python 3"
    },
    "accelerator": "GPU"
  },
  "cells": [
    {
      "cell_type": "markdown",
      "metadata": {
        "id": "view-in-github",
        "colab_type": "text"
      },
      "source": [
        "<a href=\"https://colab.research.google.com/github/KubaSiwiec/hsi_spatial_spectral/blob/collab/hsi_lstm.ipynb\" target=\"_parent\"><img src=\"https://colab.research.google.com/assets/colab-badge.svg\" alt=\"Open In Colab\"/></a>"
      ]
    },
    {
      "cell_type": "code",
      "metadata": {
        "colab_type": "code",
        "id": "sXnDmXR7RDr2",
        "outputId": "1e64ee48-24cf-42a1-beda-224b734a3053",
        "colab": {
          "base_uri": "https://localhost:8080/",
          "height": 34
        }
      },
      "source": [
        "%tensorflow_version 2.x\n",
        "import tensorflow as tf\n",
        "device_name = tf.test.gpu_device_name()\n",
        "if device_name != '/device:GPU:0':\n",
        "  raise SystemError('GPU device not found')\n",
        "print('Found GPU at: {}'.format(device_name))"
      ],
      "execution_count": 31,
      "outputs": [
        {
          "output_type": "stream",
          "text": [
            "Found GPU at: /device:GPU:0\n"
          ],
          "name": "stdout"
        }
      ]
    },
    {
      "cell_type": "code",
      "metadata": {
        "id": "5dWXpdkY4FNz",
        "colab_type": "code",
        "colab": {}
      },
      "source": [
        "'''\n",
        "feature extraction functions\n",
        "'''\n",
        "\n",
        "import scipy.io\n",
        "from skimage.util import view_as_windows\n",
        "from skimage.util import pad\n",
        "import numpy as np\n",
        "from skimage.feature import local_binary_pattern, hog\n",
        "\n",
        "\n",
        "def get_data(file_name):\n",
        "    return scipy.io.loadmat(file_name)\n",
        "\n",
        "def get_patches(image, size = 3, use_padding = 'SAME'):\n",
        "\n",
        "    # add padding for image to make it able to extract the number of patches equal to number of pixels\n",
        "    # the pad width should eqal (patch size - 1) / 2,  - center pixel will always lay in original image\n",
        "    nb_padding_pixels = int(size/2 - 0.5)\n",
        "    # choose symmetric mode\n",
        "    image_padded = pad(image, nb_padding_pixels, 'symmetric')\n",
        "\n",
        "    patch_size = (size, size, image.shape[2])\n",
        "    patches = view_as_windows(image_padded, patch_size)[:, :, 0]\n",
        "    return patches\n",
        "\n",
        "def hsi_to_lbp(image, radius, n_points):\n",
        "\n",
        "    image_shape = image.shape\n",
        "    image_depth = image_shape[2]\n",
        "\n",
        "\n",
        "    lbp_map = np.zeros(image.shape)\n",
        "    \n",
        "    for k in range(image_depth):\n",
        "        # compare each pixel greyscale value with the central pixel\n",
        "        lbp_map[:, :, k] = local_binary_pattern(image[:, :, k], n_points, radius)\n",
        "\n",
        "    return lbp_map\n",
        "\n",
        "\n",
        "def getCLBPlayer(image, radius):\n",
        "    '''\n",
        "    == Input ==\n",
        "    gray_image  : color image of shape (height, width)\n",
        "    \n",
        "    == Output ==  \n",
        "    imgLBP : LBP converted image of the same shape as \n",
        "    '''\n",
        "    \n",
        "\n",
        "    imgCLBP = np.zeros(image.shape)\n",
        "    radius = 3 \n",
        "    for ih in range(0,image.shape[0] - radius):\n",
        "        for iw in range(0,image.shape[1] - radius):\n",
        "            ### Step 1: 3 by 3 pixel\n",
        "            img = image[ih:ih+radius,iw:iw+radius]\n",
        "            img_mean = np.mean(img)\n",
        "            img01 = (img >= img_mean)*1.0\n",
        "            img01_vector = img01.T.flatten()\n",
        "            # it is ok to order counterclock manner\n",
        "            # img01_vector = img01.flatten()\n",
        "            ### Step 2: **Binary operation**:\n",
        "            img01_vector = np.delete(img01_vector,4)\n",
        "            ### Step 3: Decimal: Convert the binary operated values to a digit.\n",
        "            where_img01_vector = np.where(img01_vector)[0]\n",
        "            if len(where_img01_vector) >= 1:\n",
        "                num = np.sum(2**where_img01_vector)\n",
        "            else:\n",
        "                num = 0\n",
        "            imgCLBP[ih+1,iw+1] = num\n",
        "    return(imgCLBP)\n",
        "\n",
        "def hsi_to_clbp(image, radius):\n",
        "\n",
        "    image_shape = image.shape\n",
        "    image_depth = image_shape[2]\n",
        "\n",
        "\n",
        "    clbp_map = np.zeros(image.shape)\n",
        "    \n",
        "    for k in range(image_depth):\n",
        "        # compare each pixel greyscale value with the central pixel\n",
        "        clbp_map[:, :, k] = getCLBPlayer(image[:, :, k], radius)\n",
        "\n",
        "    return clbp_map\n",
        "\n",
        "\n",
        "def hsi_to_clbp(image, radius):\n",
        "\n",
        "    image_shape = image.shape\n",
        "    image_depth = image_shape[2]\n",
        "\n",
        "    hog_lst = []\n",
        "    \n",
        "    for k in range(image_depth):\n",
        "        # compare each pixel greyscale value with the central pixel\n",
        "        hog_lst.append(hog(image[:, :, k]))\n",
        "\n",
        "    hog_arr = np.asarray(hog_lst)\n",
        "\n",
        "    return hog_arr\n",
        "\n",
        "\n",
        "def hsi_to_wtf(image):\n",
        "\n",
        "    image_shape = image.shape\n",
        "    image_width = image_shape[0]\n",
        "    image_height = image_shape[1]\n",
        "    image_depth = image_shape[2]\n",
        "\n",
        "    # print(\"Shape: {}, Width: {}, Height: {}, Depth: {}\".format(image_shape, image_width, image_height, image_depth))\n",
        "\n",
        "    #get the image shape\n",
        "    central_pixel = image[int((image_width - 1) / 2), int((image_height - 1) / 2), :]\n",
        "\n",
        "    # print(\"Central pixel: {}\".format(central_pixel))\n",
        "\n",
        "    lbp_map = np.zeros(image.shape)\n",
        "    # dimensions of the image: (image_width,image_height,image_depth)\n",
        "    # for each of k channels\n",
        "    for k in range(image_depth):\n",
        "        # compare each pixel greyscale value with the central pixel\n",
        "        for i in range(image_width):\n",
        "            for j in range(image_height):\n",
        "                if image[i,j,k] >= central_pixel[k]:\n",
        "                    lbp_map[i,j,k] = True\n",
        "                elif image[i,j,k] < central_pixel[k]:\n",
        "                    lbp_map[i,j,k] = False\n",
        "                # setting the central pixel to 0.5 removes the noisy pixel from the middle of a image\n",
        "                #but LBP map stops to be binary\n",
        "                #when using it, remove the eqaul sign from the first conditional equation\n",
        "                # else:\n",
        "                #     lbp_map[i,j,k] = 0.5\n",
        "\n",
        "    print('lbp map: {}'.format(lbp_map))\n",
        "\n",
        "    return lbp_map\n",
        "\n",
        "\n",
        "def hsi_to_mwtf(image):\n",
        "    #here, the treshold will be set as mean of the image, not as value of specific central pixel\n",
        "\n",
        "    image_shape = image.shape\n",
        "    image_width = image_shape[0]\n",
        "    image_height = image_shape[1]\n",
        "    image_depth = image_shape[2]\n",
        "\n",
        "    # print(\"Shape: {}, Width: {}, Height: {}, Depth: {}\".format(image_shape, image_width, image_height, image_depth))\n",
        "\n",
        "    #get the image shape\n",
        "    central_pixel = image[int((image_width - 1) / 2), int((image_height - 1) / 2), :]\n",
        "\n",
        "    # print(\"Central pixel: {}\".format(central_pixel))\n",
        "\n",
        "    clbp_map = np.zeros(image.shape)\n",
        "    # dimensions of the image: (image_width,image_height,image_depth)\n",
        "    # for each of k channels\n",
        "    for k in range(image_depth):\n",
        "        # compare each pixel greyscale value with the mean of the image\n",
        "\n",
        "        #get mean of a layer\n",
        "        channel_mean = np.mean(image[:, :, k])\n",
        "        for i in range(image_width):\n",
        "            for j in range(image_height):\n",
        "                if image[i,j,k] >= channel_mean:\n",
        "                    clbp_map[i,j,k] = 1\n",
        "                elif image[i,j,k] < channel_mean:\n",
        "                    clbp_map[i,j,k] = 0\n",
        "\n",
        "    return clbp_map\n",
        "\n",
        "\n",
        "\n",
        "\n",
        "\n",
        "def hs_to_grey(image):\n",
        "    return np.mean(image, axis = 2)\n",
        "\n",
        "def arr2D_to_list(arr: np.array):\n",
        "    dims = len(arr.shape)\n",
        "    lst = []\n",
        "    if dims == 2:\n",
        "        print('Gt width: {}, length: {}'.format(arr.shape[0], arr.shape[1]))\n",
        "        for i in range(arr.shape[0]):\n",
        "            for j in range(arr.shape[1]):\n",
        "                lst.append(arr[i, j])\n",
        "\n",
        "        return lst\n",
        "    else:\n",
        "        raise Exception('Array should be two dimentional')\n",
        "\n",
        "def arr5D_to_list_of_3D_arr(arr: np.array):\n",
        "    dims = len(arr.shape)\n",
        "    lst = []\n",
        "    if dims == 5:\n",
        "        for i in range(arr.shape[0]):\n",
        "            for j in range(arr.shape[1]):\n",
        "                    lst.append(arr[i, j])\n",
        "        return lst\n",
        "    else:\n",
        "        raise Exception('Array should be two dimentional')\n",
        "\n",
        "\n",
        "\n"
      ],
      "execution_count": 0,
      "outputs": []
    },
    {
      "cell_type": "code",
      "metadata": {
        "id": "gPny7qU9RQBl",
        "colab_type": "code",
        "colab": {}
      },
      "source": [
        "'''\n",
        "RNN LSTM\n",
        "'''\n",
        "\n",
        "from tensorflow import keras\n",
        "\n",
        "# model definition function\n",
        "def create_model_LSTM(l2_loss_lambda = None, input_shape = (3, 309)):\n",
        "    keras.backend.clear_session()\n",
        "\n",
        "    # target_size = (32, 32)\n",
        "    l2 = None if l2_loss_lambda is None else keras.regularizers.l2(l2_loss_lambda)\n",
        "    if l2 is not None:\n",
        "        print('Using L2 regularization - l2_loss_lambda = %.4f' % l2_loss_lambda)\n",
        "\n",
        "    model = keras.Sequential(\n",
        "        [\n",
        "            # keras.layers.Lambda(lambda image: tf.image.resize(image, target_size)),\n",
        "            tf.compat.v1.keras.layers.CuDNNLSTM(1024, input_shape = input_shape, return_sequences = True),\n",
        "            keras.layers.Dropout(0.2),\n",
        "         \n",
        "            tf.compat.v1.keras.layers.CuDNNLSTM(1024),\n",
        "            keras.layers.Dropout(0.2),\n",
        "         \n",
        "            keras.layers.Dense(256, activation=tf.nn.relu, kernel_regularizer=l2),\n",
        "            keras.layers.Dropout(0.2),\n",
        "            \n",
        "            keras.layers.Dense(10, activation=tf.nn.softmax),\n",
        "        ]\n",
        "    )\n",
        "\n",
        "    # model compiling\n",
        "\n",
        "    model.compile(\n",
        "        optimizer=\"adam\", loss=\"sparse_categorical_crossentropy\", metrics=[\"accuracy\"]\n",
        "    )\n",
        "\n",
        "    return model"
      ],
      "execution_count": 0,
      "outputs": []
    },
    {
      "cell_type": "code",
      "metadata": {
        "id": "PYjV6R59l55d",
        "colab_type": "code",
        "colab": {}
      },
      "source": [
        "import gc\n",
        "class GarbageCollectorCallback(tf.keras.callbacks.Callback):\n",
        "\n",
        "  def on_epoch_end(self, epoch, logs=None):\n",
        "    gc.collect()\n"
      ],
      "execution_count": 0,
      "outputs": []
    },
    {
      "cell_type": "code",
      "metadata": {
        "id": "D9yw3o594TxW",
        "colab_type": "code",
        "colab": {}
      },
      "source": [
        "from sklearn.model_selection import train_test_split\n",
        "from skimage.transform import resize\n",
        "import matplotlib.pyplot as plt"
      ],
      "execution_count": 0,
      "outputs": []
    },
    {
      "cell_type": "code",
      "metadata": {
        "id": "2ZrPJE13RRXU",
        "colab_type": "code",
        "outputId": "76b5bbba-c1fe-48bb-8d50-8e2e2f4e467d",
        "colab": {
          "base_uri": "https://localhost:8080/",
          "height": 104
        }
      },
      "source": [
        "mat = get_data(\"/content/drive/My Drive/PaviaU.mat\")\n",
        "# print(mat)\n",
        "\n",
        "mat_gt = get_data(\"/content/drive/My Drive/PaviaU_gt.mat\")\n",
        "# print(mat_gt\n",
        "\n",
        "data = mat['paviaU']\n",
        "ground_truth = mat_gt['paviaU_gt']\n",
        "\n",
        "print(\"Shape of the cube: {}\".format(data.shape))\n",
        "print(\"Shape of the labels_arr: {}\".format(ground_truth.shape))\n",
        "print(\"Number of classes: {}\".format(np.unique(ground_truth)))\n",
        "\n",
        "print(\"Maximum value: {}\".format(np.argmax(data)))\n",
        "\n",
        "print(\"Index of maximum value: {}\".format(np.unravel_index(np.argmax(data), data.shape)))\n",
        "\n",
        "\n",
        "\n",
        "\n",
        "\n",
        "\n",
        "\n",
        "\n",
        "\n",
        "\n"
      ],
      "execution_count": 36,
      "outputs": [
        {
          "output_type": "stream",
          "text": [
            "Shape of the cube: (610, 340, 103)\n",
            "Shape of the labels_arr: (610, 340)\n",
            "Number of classes: [0 1 2 3 4 5 6 7 8 9]\n",
            "Maximum value: 396299\n",
            "Index of maximum value: (11, 107, 58)\n"
          ],
          "name": "stdout"
        }
      ]
    },
    {
      "cell_type": "code",
      "metadata": {
        "id": "LNe_VQtPRR2U",
        "colab_type": "code",
        "outputId": "d25eaed3-dace-4617-80f8-4126d4aa097a",
        "colab": {
          "base_uri": "https://localhost:8080/",
          "height": 903
        }
      },
      "source": [
        "# apply lbp and clbp on image\n",
        "radius = 3\n",
        "processed_image = hsi_to_lbp(data, radius, radius*8)\n",
        "print('LBP image shape: {}'.format(processed_image.shape))\n",
        "print(np.int_(processed_image/10000))\n",
        "\n",
        "processed_image = np.int_(processed_image/10000/1677*255)\n",
        "print(np.max(processed_image))\n",
        "\n",
        "\n",
        "\n",
        "\n",
        "\n"
      ],
      "execution_count": 37,
      "outputs": [
        {
          "output_type": "stream",
          "text": [
            "LBP image shape: (610, 340, 103)\n",
            "[[[1546 1546 1336 ...    0    0    0]\n",
            "  [1612 1585  249 ...    0    0    0]\n",
            "  [1425    3    9 ...    0    0    0]\n",
            "  ...\n",
            "  [ 418  179    1 ...    3    3    4]\n",
            "  [ 101  104  209 ...   84   84   84]\n",
            "  [  49   49   50 ...   52   52   52]]\n",
            "\n",
            " [[1284   26   26 ...    0    0    0]\n",
            "  [   0   13  249 ...    0    0    0]\n",
            "  [ 835 1582    9 ...    0    0    0]\n",
            "  ...\n",
            "  [   0  186  396 ...    0    0    0]\n",
            "  [  13    0    0 ...   81   81   81]\n",
            "  [   0    0   49 ...   52   52   52]]\n",
            "\n",
            " [[   0    0   26 ...    0    0    0]\n",
            "  [1671 1297   13 ...   39   39   39]\n",
            "  [   0  629 1622 ... 1671 1671 1671]\n",
            "  ...\n",
            "  [ 210  106  393 ...  209  209  209]\n",
            "  [ 209  205   52 ...  101  101  101]\n",
            "  [   3   49   51 ...   46   46   46]]\n",
            "\n",
            " ...\n",
            "\n",
            " [[1468 1468 1468 ...  838 1258 1258]\n",
            "  [1468  838    0 ... 1258 1258 1468]\n",
            "  [1468 1258    0 ... 1468 1468 1468]\n",
            "  ...\n",
            "  [   0    0    0 ...    0    0    1]\n",
            "  [   6    6 1677 ...    0    0    0]\n",
            "  [   0    0    0 ...    1    1    1]]\n",
            "\n",
            " [[ 838  838    0 ...  838  838  838]\n",
            "  [ 838    0  838 ...  838  838  838]\n",
            "  [   0    0    0 ...  838  838  838]\n",
            "  ...\n",
            "  [   0    0    0 ...    0    0    0]\n",
            "  [   1    1    1 ...    0    0    0]\n",
            "  [   0    0    2 ...    0    0    0]]\n",
            "\n",
            " [[   0    0    0 ...    0    0    0]\n",
            "  [   0    0    0 ...    0    0    0]\n",
            "  [   0    0    0 ...    0    0    0]\n",
            "  ...\n",
            "  [   0    0    0 ...    0    0    0]\n",
            "  [   0    0    0 ...    0    0    0]\n",
            "  [   0    0    0 ...    0    0    0]]]\n",
            "255\n"
          ],
          "name": "stdout"
        }
      ]
    },
    {
      "cell_type": "code",
      "metadata": {
        "id": "t6lMXbqaRSSw",
        "colab_type": "code",
        "outputId": "fcc22f12-477f-463d-a068-5432ae257a7c",
        "colab": {
          "base_uri": "https://localhost:8080/",
          "height": 34
        }
      },
      "source": [
        "#crop patches\n",
        "patch_size = 3\n",
        "data_patches = get_patches(processed_image, patch_size)\n",
        "print('LBP patches shape: {}'.format(data_patches.shape))"
      ],
      "execution_count": 38,
      "outputs": [
        {
          "output_type": "stream",
          "text": [
            "LBP patches shape: (610, 340, 3, 3, 103)\n"
          ],
          "name": "stdout"
        }
      ]
    },
    {
      "cell_type": "code",
      "metadata": {
        "id": "fFhQFkJMRzDN",
        "colab_type": "code",
        "outputId": "a8517269-7797-4236-d1f4-db03bbb8e768",
        "colab": {
          "base_uri": "https://localhost:8080/",
          "height": 69
        }
      },
      "source": [
        "'''\n",
        "Save patches and ground truth into arrays\n",
        "'''\n",
        "\n",
        "# patches\n",
        "patch_arr = np.asarray(arr5D_to_list_of_3D_arr(data_patches), dtype=np.uint8)\n",
        "print('patch_lbp_list len: {}'.format(patch_arr.shape))\n",
        "data_patches = None\n",
        "gc.collect()\n",
        "\n",
        "# ground truth\n",
        "labels_gt = ground_truth.flatten()\n",
        "print(\"Labels len: {}\".format(len(labels_gt)))\n",
        "print(np.unique(labels_gt))\n",
        "ground_truth = None\n"
      ],
      "execution_count": 39,
      "outputs": [
        {
          "output_type": "stream",
          "text": [
            "patch_lbp_list len: (207400, 3, 3, 103)\n",
            "Labels len: 207400\n",
            "[0 1 2 3 4 5 6 7 8 9]\n"
          ],
          "name": "stdout"
        }
      ]
    },
    {
      "cell_type": "code",
      "metadata": {
        "id": "tQRGqq2Ulb_s",
        "colab_type": "code",
        "colab": {}
      },
      "source": [
        "'''\n",
        "Reshape to match LSTM input size\n",
        "'''\n",
        "patches_sequence = patch_arr.reshape(patch_arr.shape[0], patch_arr.shape[1], patch_arr.shape[2] * patch_arr.shape[3])\n",
        "patch_arr = None"
      ],
      "execution_count": 0,
      "outputs": []
    },
    {
      "cell_type": "code",
      "metadata": {
        "id": "vei-cPSCR611",
        "colab_type": "code",
        "colab": {}
      },
      "source": [
        "'''\n",
        "split data to training and validation datasets\n",
        "'''\n",
        "gc.collect()\n",
        "\n",
        "val_split = 0.25\n",
        "X_train, X_val, y_train, y_val = train_test_split(patches_sequence, labels_gt, test_size=val_split, stratify=labels_gt)\n",
        "\n",
        "#free memory\n",
        "patches_sequence = None\n",
        "label_gt = None"
      ],
      "execution_count": 0,
      "outputs": []
    },
    {
      "cell_type": "code",
      "metadata": {
        "id": "hNLGGMCmSRB5",
        "colab_type": "code",
        "outputId": "c4df7a2c-0b56-4ca5-d76a-483d1ca76c79",
        "colab": {
          "base_uri": "https://localhost:8080/",
          "height": 489
        }
      },
      "source": [
        "'''\n",
        "Create and fit model, get loss, accuracy and f1-score metrics\n",
        "'''\n",
        "model = create_model_LSTM(None)\n",
        "\n",
        "gc.collect()\n",
        "history = model.fit(X_train, y_train, batch_size = 256, epochs=30, validation_data=(X_val, y_val))\n",
        "print(model.summary())"
      ],
      "execution_count": 0,
      "outputs": [
        {
          "output_type": "stream",
          "text": [
            "Epoch 1/30\n",
            "608/608 [==============================] - 26s 42ms/step - loss: 0.7941 - accuracy: 0.7945 - val_loss: 0.7708 - val_accuracy: 0.7958\n",
            "Epoch 2/30\n",
            "608/608 [==============================] - 11s 18ms/step - loss: 0.7643 - accuracy: 0.7970 - val_loss: 0.7513 - val_accuracy: 0.7970\n",
            "Epoch 3/30\n",
            "608/608 [==============================] - 11s 18ms/step - loss: 0.7451 - accuracy: 0.7979 - val_loss: 0.7307 - val_accuracy: 0.7973\n",
            "Epoch 4/30\n",
            "608/608 [==============================] - 11s 18ms/step - loss: 0.7338 - accuracy: 0.7985 - val_loss: 0.7292 - val_accuracy: 0.7977\n",
            "Epoch 5/30\n",
            "608/608 [==============================] - 11s 18ms/step - loss: 0.7234 - accuracy: 0.7991 - val_loss: 0.7090 - val_accuracy: 0.7989\n",
            "Epoch 6/30\n",
            "608/608 [==============================] - 11s 18ms/step - loss: 0.7178 - accuracy: 0.7993 - val_loss: 0.7019 - val_accuracy: 0.7986\n",
            "Epoch 7/30\n",
            "608/608 [==============================] - 11s 18ms/step - loss: 0.7165 - accuracy: 0.7994 - val_loss: 0.6989 - val_accuracy: 0.8003\n",
            "Epoch 8/30\n",
            "608/608 [==============================] - 11s 18ms/step - loss: 0.7059 - accuracy: 0.8002 - val_loss: 0.6864 - val_accuracy: 0.8004\n",
            "Epoch 9/30\n",
            "608/608 [==============================] - 11s 18ms/step - loss: 0.6977 - accuracy: 0.8011 - val_loss: 0.6792 - val_accuracy: 0.8008\n",
            "Epoch 10/30\n",
            "608/608 [==============================] - 11s 18ms/step - loss: 0.6928 - accuracy: 0.8009 - val_loss: 0.6887 - val_accuracy: 0.8008\n",
            "Epoch 11/30\n",
            "608/608 [==============================] - 11s 18ms/step - loss: 0.6870 - accuracy: 0.8014 - val_loss: 0.6809 - val_accuracy: 0.8006\n",
            "Epoch 12/30\n",
            "608/608 [==============================] - 11s 18ms/step - loss: 0.6812 - accuracy: 0.8021 - val_loss: 0.6729 - val_accuracy: 0.8027\n",
            "Epoch 13/30\n",
            "496/608 [=======================>......] - ETA: 1s - loss: 0.6787 - accuracy: 0.8021"
          ],
          "name": "stdout"
        }
      ]
    },
    {
      "cell_type": "code",
      "metadata": {
        "id": "HKVY1RU10fZo",
        "colab_type": "code",
        "colab": {}
      },
      "source": [
        "'''\n",
        "Plot accuracy\n",
        "'''\n",
        "\n",
        "plt.figure(1)\n",
        "plt.plot(history.history['accuracy'])\n",
        "plt.plot(history.history['val_accuracy'])\n",
        "plt.legend(['train accuracy', 'val accuracy'])\n",
        "plt.title(\"LBP, CNN, {}x{} patch\".format(patch_size, patch_size))\n",
        "plt.show()"
      ],
      "execution_count": 0,
      "outputs": []
    },
    {
      "cell_type": "code",
      "metadata": {
        "id": "p7FBRIr29Bv-",
        "colab_type": "code",
        "colab": {}
      },
      "source": [
        "'''\n",
        "get predictions and predicted labels\n",
        "'''\n",
        "\n",
        "predictions = model.predict(X_val)\n",
        "gt_predicted = [np.argmax(prediction) for prediction in predictions]\n"
      ],
      "execution_count": 0,
      "outputs": []
    }
  ]
}