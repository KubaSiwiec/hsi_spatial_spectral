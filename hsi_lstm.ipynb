{
  "nbformat": 4,
  "nbformat_minor": 0,
  "metadata": {
    "colab": {
      "name": "hsi_lstm.ipynb",
      "provenance": [],
      "mount_file_id": "13WsY2YGPifeX-7Rv7P0wgbOcgFDm6Prt",
      "authorship_tag": "ABX9TyNNyzx8VjGdVS6gjs53FC5/",
      "include_colab_link": true
    },
    "kernelspec": {
      "name": "python3",
      "display_name": "Python 3"
    },
    "accelerator": "GPU"
  },
  "cells": [
    {
      "cell_type": "markdown",
      "metadata": {
        "id": "view-in-github",
        "colab_type": "text"
      },
      "source": [
        "<a href=\"https://colab.research.google.com/github/KubaSiwiec/hsi_spatial_spectral/blob/collab/hsi_lstm.ipynb\" target=\"_parent\"><img src=\"https://colab.research.google.com/assets/colab-badge.svg\" alt=\"Open In Colab\"/></a>"
      ]
    },
    {
      "cell_type": "code",
      "metadata": {
        "colab_type": "code",
        "id": "sXnDmXR7RDr2",
        "outputId": "22fbcb90-fc63-4b16-93bf-6d1ace71e424",
        "colab": {
          "base_uri": "https://localhost:8080/",
          "height": 34
        }
      },
      "source": [
        "%tensorflow_version 2.x\n",
        "import tensorflow as tf\n",
        "device_name = tf.test.gpu_device_name()\n",
        "if device_name != '/device:GPU:0':\n",
        "  raise SystemError('GPU device not found')\n",
        "print('Found GPU at: {}'.format(device_name))"
      ],
      "execution_count": 8,
      "outputs": [
        {
          "output_type": "stream",
          "text": [
            "Found GPU at: /device:GPU:0\n"
          ],
          "name": "stdout"
        }
      ]
    },
    {
      "cell_type": "code",
      "metadata": {
        "id": "5dWXpdkY4FNz",
        "colab_type": "code",
        "colab": {}
      },
      "source": [
        "'''\n",
        "feature extraction functions\n",
        "'''\n",
        "\n",
        "import scipy.io\n",
        "from skimage.util import view_as_windows\n",
        "from skimage.util import pad\n",
        "import numpy as np\n",
        "from skimage.feature import local_binary_pattern, hog\n",
        "\n",
        "\n",
        "def get_data(file_name):\n",
        "    return scipy.io.loadmat(file_name)\n",
        "\n",
        "def get_patches(image, size = 3, use_padding = 'SAME'):\n",
        "\n",
        "    # add padding for image to make it able to extract the number of patches equal to number of pixels\n",
        "    # the pad width should eqal (patch size - 1) / 2,  - center pixel will always lay in original image\n",
        "    nb_padding_pixels = int(size/2 - 0.5)\n",
        "    # choose symmetric mode\n",
        "    image_padded = pad(image, nb_padding_pixels, 'symmetric')\n",
        "\n",
        "    patch_size = (size, size, image.shape[2])\n",
        "    patches = view_as_windows(image_padded, patch_size)[:, :, 0]\n",
        "    return patches\n",
        "\n",
        "def hsi_to_lbp(image, radius, n_points):\n",
        "\n",
        "    image_shape = image.shape\n",
        "    image_depth = image_shape[2]\n",
        "\n",
        "\n",
        "    lbp_map = np.zeros(image.shape)\n",
        "    \n",
        "    for k in range(image_depth):\n",
        "        # compare each pixel greyscale value with the central pixel\n",
        "        lbp_map[:, :, k] = local_binary_pattern(image[:, :, k], n_points, radius)\n",
        "\n",
        "    return lbp_map\n",
        "\n",
        "\n",
        "def getCLBPlayer(image, radius):\n",
        "    '''\n",
        "    == Input ==\n",
        "    gray_image  : color image of shape (height, width)\n",
        "    \n",
        "    == Output ==  \n",
        "    imgLBP : LBP converted image of the same shape as \n",
        "    '''\n",
        "    \n",
        "\n",
        "    imgCLBP = np.zeros(image.shape)\n",
        "    radius = 3 \n",
        "    for ih in range(0,image.shape[0] - radius):\n",
        "        for iw in range(0,image.shape[1] - radius):\n",
        "            ### Step 1: 3 by 3 pixel\n",
        "            img = image[ih:ih+radius,iw:iw+radius]\n",
        "            img_mean = np.mean(img)\n",
        "            img01 = (img >= img_mean)*1.0\n",
        "            img01_vector = img01.T.flatten()\n",
        "            # it is ok to order counterclock manner\n",
        "            # img01_vector = img01.flatten()\n",
        "            ### Step 2: **Binary operation**:\n",
        "            img01_vector = np.delete(img01_vector,4)\n",
        "            ### Step 3: Decimal: Convert the binary operated values to a digit.\n",
        "            where_img01_vector = np.where(img01_vector)[0]\n",
        "            if len(where_img01_vector) >= 1:\n",
        "                num = np.sum(2**where_img01_vector)\n",
        "            else:\n",
        "                num = 0\n",
        "            imgCLBP[ih+1,iw+1] = num\n",
        "    return(imgCLBP)\n",
        "\n",
        "def hsi_to_clbp(image, radius):\n",
        "\n",
        "    image_shape = image.shape\n",
        "    image_depth = image_shape[2]\n",
        "\n",
        "\n",
        "    clbp_map = np.zeros(image.shape)\n",
        "    \n",
        "    for k in range(image_depth):\n",
        "        # compare each pixel greyscale value with the central pixel\n",
        "        clbp_map[:, :, k] = getCLBPlayer(image[:, :, k], radius)\n",
        "\n",
        "    return clbp_map\n",
        "\n",
        "\n",
        "def hsi_to_hog(image, radius):\n",
        "\n",
        "    image_shape = image.shape\n",
        "    image_depth = image_shape[2]\n",
        "\n",
        "    hog_lst = []\n",
        "    \n",
        "    for k in range(image_depth):\n",
        "        # compare each pixel greyscale value with the central pixel\n",
        "        hog_lst.append(hog(image[:, :, k]))\n",
        "\n",
        "    hog_arr = np.asarray(hog_lst)\n",
        "\n",
        "    return hog_arr\n",
        "\n",
        "\n",
        "\n",
        "def hsi_to_mwtf(image):\n",
        "    #here, the treshold will be set as mean of the image, not as value of specific central pixel\n",
        "\n",
        "    image_shape = image.shape\n",
        "    image_width = image_shape[0]\n",
        "    image_height = image_shape[1]\n",
        "    image_depth = image_shape[2]\n",
        "\n",
        "    # print(\"Shape: {}, Width: {}, Height: {}, Depth: {}\".format(image_shape, image_width, image_height, image_depth))\n",
        "\n",
        "    #get the image shape\n",
        "    central_pixel = image[int((image_width - 1) / 2), int((image_height - 1) / 2), :]\n",
        "\n",
        "    # print(\"Central pixel: {}\".format(central_pixel))\n",
        "\n",
        "    mwtf_map = np.zeros(image.shape)\n",
        "    # dimensions of the image: (image_width,image_height,image_depth)\n",
        "    # for each of k channels\n",
        "    for k in range(image_depth):\n",
        "        # compare each pixel greyscale value with the mean of the image\n",
        "\n",
        "        #get mean of a layer\n",
        "        channel_mean = np.mean(image[:, :, k])\n",
        "        for i in range(image_width):\n",
        "            for j in range(image_height):\n",
        "                if image[i,j,k] >= channel_mean:\n",
        "                    mwtf_map[i,j,k] = 1\n",
        "                elif image[i,j,k] < channel_mean:\n",
        "                    mwtf_map[i,j,k] = 0\n",
        "\n",
        "    return mwtf_map\n",
        "\n",
        "\n",
        "\n",
        "\n",
        "\n",
        "def hs_to_grey(image):\n",
        "    return np.mean(image, axis = 2)\n",
        "\n",
        "def arr2D_to_list(arr: np.array):\n",
        "    dims = len(arr.shape)\n",
        "    lst = []\n",
        "    if dims == 2:\n",
        "        print('Gt width: {}, length: {}'.format(arr.shape[0], arr.shape[1]))\n",
        "        for i in range(arr.shape[0]):\n",
        "            for j in range(arr.shape[1]):\n",
        "                lst.append(arr[i, j])\n",
        "\n",
        "        return lst\n",
        "    else:\n",
        "        raise Exception('Array should be two dimentional')\n",
        "\n",
        "def arr5D_to_list_of_3D_arr(arr: np.array):\n",
        "    dims = len(arr.shape)\n",
        "    lst = []\n",
        "    if dims == 5:\n",
        "        for i in range(arr.shape[0]):\n",
        "            for j in range(arr.shape[1]):\n",
        "                    lst.append(arr[i, j])\n",
        "        return lst\n",
        "    else:\n",
        "        raise Exception('Array should be two dimentional')\n",
        "\n",
        "\n",
        "\n"
      ],
      "execution_count": 0,
      "outputs": []
    },
    {
      "cell_type": "code",
      "metadata": {
        "id": "PYjV6R59l55d",
        "colab_type": "code",
        "colab": {}
      },
      "source": [
        "import gc\n",
        "class GarbageCollectorCallback(tf.keras.callbacks.Callback):\n",
        "\n",
        "  def on_epoch_end(self, epoch, logs=None):\n",
        "    gc.collect()\n"
      ],
      "execution_count": 0,
      "outputs": []
    },
    {
      "cell_type": "code",
      "metadata": {
        "id": "D9yw3o594TxW",
        "colab_type": "code",
        "colab": {}
      },
      "source": [
        "from sklearn.model_selection import train_test_split\n",
        "from skimage.transform import resize\n",
        "import matplotlib.pyplot as plt"
      ],
      "execution_count": 0,
      "outputs": []
    },
    {
      "cell_type": "code",
      "metadata": {
        "id": "2ZrPJE13RRXU",
        "colab_type": "code",
        "outputId": "ce092b78-6d27-4a93-837c-d67b072b71e6",
        "colab": {
          "base_uri": "https://localhost:8080/",
          "height": 104
        }
      },
      "source": [
        "mat = get_data(\"/content/drive/My Drive/PaviaU.mat\")\n",
        "# print(mat)\n",
        "\n",
        "mat_gt = get_data(\"/content/drive/My Drive/PaviaU_gt.mat\")\n",
        "# print(mat_gt\n",
        "\n",
        "data = mat['paviaU']\n",
        "ground_truth = mat_gt['paviaU_gt']\n",
        "\n",
        "print(\"Shape of the cube: {}\".format(data.shape))\n",
        "print(\"Shape of the labels_arr: {}\".format(ground_truth.shape))\n",
        "print(\"Number of classes: {}\".format(np.unique(ground_truth)))\n",
        "\n",
        "print(\"Maximum value: {}\".format(np.argmax(data)))\n",
        "\n",
        "print(\"Index of maximum value: {}\".format(np.unravel_index(np.argmax(data), data.shape)))\n",
        "\n",
        "\n",
        "\n",
        "\n",
        "\n",
        "\n",
        "\n",
        "\n",
        "\n",
        "\n"
      ],
      "execution_count": 12,
      "outputs": [
        {
          "output_type": "stream",
          "text": [
            "Shape of the cube: (610, 340, 103)\n",
            "Shape of the labels_arr: (610, 340)\n",
            "Number of classes: [0 1 2 3 4 5 6 7 8 9]\n",
            "Maximum value: 396299\n",
            "Index of maximum value: (11, 107, 58)\n"
          ],
          "name": "stdout"
        }
      ]
    },
    {
      "cell_type": "code",
      "metadata": {
        "id": "LNe_VQtPRR2U",
        "colab_type": "code",
        "colab": {}
      },
      "source": [
        "# apply lbp and clbp on image\n",
        "radius = 3\n",
        "processed_image = hsi_to_clbp(data, radius)\n",
        "print('LBP image shape: {}'.format(processed_image.shape))\n",
        "print(np.int_(processed_image/10000))\n",
        "\n",
        "processed_image = np.int_(processed_image/np.max(processed_image)*255)\n",
        "print(np.max(processed_image))\n",
        "\n",
        "\n",
        "\n",
        "\n",
        "\n"
      ],
      "execution_count": 0,
      "outputs": []
    },
    {
      "cell_type": "code",
      "metadata": {
        "id": "t6lMXbqaRSSw",
        "colab_type": "code",
        "colab": {}
      },
      "source": [
        "#crop patches\n",
        "patch_size = 9\n",
        "data_patches = get_patches(processed_image, patch_size)\n",
        "print('LBP patches shape: {}'.format(data_patches.shape))"
      ],
      "execution_count": 0,
      "outputs": []
    },
    {
      "cell_type": "code",
      "metadata": {
        "id": "fFhQFkJMRzDN",
        "colab_type": "code",
        "colab": {}
      },
      "source": [
        "'''\n",
        "Save patches and ground truth into arrays\n",
        "'''\n",
        "\n",
        "# patches\n",
        "patch_arr = np.asarray(arr5D_to_list_of_3D_arr(data_patches), dtype=np.uint8)\n",
        "print('patch_lbp_list len: {}'.format(patch_arr.shape))\n",
        "data_patches = None\n",
        "gc.collect()\n",
        "\n",
        "# ground truth\n",
        "labels_gt = ground_truth.flatten()\n",
        "print(\"Labels len: {}\".format(len(labels_gt)))\n",
        "print(np.unique(labels_gt))\n",
        "ground_truth = None\n"
      ],
      "execution_count": 0,
      "outputs": []
    },
    {
      "cell_type": "code",
      "metadata": {
        "id": "tQRGqq2Ulb_s",
        "colab_type": "code",
        "colab": {}
      },
      "source": [
        "'''\n",
        "Reshape to match LSTM input size\n",
        "'''\n",
        "patches_sequence = patch_arr.reshape(patch_arr.shape[0], patch_arr.shape[1], patch_arr.shape[2] * patch_arr.shape[3])\n",
        "patch_arr = None"
      ],
      "execution_count": 0,
      "outputs": []
    },
    {
      "cell_type": "code",
      "metadata": {
        "id": "vei-cPSCR611",
        "colab_type": "code",
        "colab": {}
      },
      "source": [
        "'''\n",
        "split data to training and validation datasets\n",
        "'''\n",
        "gc.collect()\n",
        "\n",
        "val_split = 0.25\n",
        "X_train, X_val, y_train, y_val = train_test_split(patches_sequence, labels_gt, test_size=val_split, stratify=labels_gt)\n",
        "\n",
        "#free memory\n",
        "patches_sequence = None\n",
        "label_gt = None"
      ],
      "execution_count": 0,
      "outputs": []
    },
    {
      "cell_type": "code",
      "metadata": {
        "id": "gPny7qU9RQBl",
        "colab_type": "code",
        "colab": {}
      },
      "source": [
        "'''\n",
        "RNN LSTM\n",
        "'''\n",
        "\n",
        "from tensorflow import keras\n",
        "\n",
        "# model definition function\n",
        "def create_model_LSTM(l2_loss_lambda = None, input_shape = (7, 7*103)):\n",
        "    keras.backend.clear_session()\n",
        "\n",
        "    # target_size = (32, 32)\n",
        "    l2 = None if l2_loss_lambda is None else keras.regularizers.l2(l2_loss_lambda)\n",
        "    if l2 is not None:\n",
        "        print('Using L2 regularization - l2_loss_lambda = %.4f' % l2_loss_lambda)\n",
        "\n",
        "    model = keras.Sequential(\n",
        "        [\n",
        "            # keras.layers.Lambda(lambda image: tf.image.resize(image, target_size)),\n",
        "            tf.compat.v1.keras.layers.CuDNNLSTM(512, input_shape = input_shape, return_sequences = True),\n",
        "            keras.layers.Dropout(0.2),\n",
        "         \n",
        "            tf.compat.v1.keras.layers.CuDNNLSTM(512),\n",
        "            keras.layers.Dropout(0.2),\n",
        "         \n",
        "            keras.layers.Dense(256, activation=tf.nn.relu, kernel_regularizer=l2),\n",
        "            keras.layers.Dropout(0.2),\n",
        "            \n",
        "            keras.layers.Dense(10, activation=tf.nn.softmax),\n",
        "        ]\n",
        "    )\n",
        "\n",
        "    # model compiling\n",
        "\n",
        "    model.compile(\n",
        "        optimizer=keras.optimizers.Adam(), loss=\"sparse_categorical_crossentropy\", metrics=[\"accuracy\"]\n",
        "    )\n",
        "\n",
        "    return model"
      ],
      "execution_count": 0,
      "outputs": []
    },
    {
      "cell_type": "code",
      "metadata": {
        "id": "hNLGGMCmSRB5",
        "colab_type": "code",
        "colab": {}
      },
      "source": [
        "'''\n",
        "Create and fit model, get loss, accuracy and f1-score metrics\n",
        "'''\n",
        "model = create_model_LSTM(None, (patch_size, patch_size*103))\n",
        "\n",
        "gc.collect()\n",
        "history = model.fit(X_train, y_train, batch_size = 256, epochs=300, validation_data=(X_val, y_val))\n",
        "print(model.summary())"
      ],
      "execution_count": 0,
      "outputs": []
    },
    {
      "cell_type": "code",
      "metadata": {
        "id": "HKVY1RU10fZo",
        "colab_type": "code",
        "colab": {}
      },
      "source": [
        "'''\n",
        "Plot accuracy\n",
        "'''\n",
        "\n",
        "plt.figure(1)\n",
        "plt.plot(history.history['accuracy'])\n",
        "plt.plot(history.history['val_accuracy'])\n",
        "plt.legend(['train accuracy', 'val accuracy'])\n",
        "plt.title(\"LBP, LSTM, {}x{} patch\".format(patch_size, patch_size))\n",
        "plt.show()"
      ],
      "execution_count": 0,
      "outputs": []
    },
    {
      "cell_type": "code",
      "metadata": {
        "id": "p7FBRIr29Bv-",
        "colab_type": "code",
        "colab": {}
      },
      "source": [
        "'''\n",
        "get predictions and predicted labels\n",
        "'''\n",
        "\n",
        "predictions = model.predict(X_val)\n",
        "gt_predicted = [np.argmax(prediction) for prediction in predictions]\n"
      ],
      "execution_count": 0,
      "outputs": []
    },
    {
      "cell_type": "code",
      "metadata": {
        "id": "RLkXzHZBn0E3",
        "colab_type": "code",
        "colab": {}
      },
      "source": [
        "'''\n",
        "Calculate kappa coefictient\n",
        "'''\n",
        "\n",
        "from sklearn.metrics import cohen_kappa_score, f1_score\n",
        "\n",
        "kappa = cohen_kappa_score(y_val, np.array(gt_predicted))\n",
        "f1 = f1_score(y_val, np.array(gt_predicted), average = 'weighted')\n",
        "print(\"Training accuracy: {}\\nValidation accuracy: {}\\nKappa: {}\\nF1: {}\".format(np.max(history.history['accuracy']), np.max(history.history['val_accuracy']),kappa, f1))"
      ],
      "execution_count": 0,
      "outputs": []
    }
  ]
}